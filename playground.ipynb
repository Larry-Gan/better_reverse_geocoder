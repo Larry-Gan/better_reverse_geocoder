{
 "cells": [
  {
   "cell_type": "code",
   "execution_count": 1,
   "id": "7eb2bf77",
   "metadata": {},
   "outputs": [],
   "source": [
    "import pandas as pd\n",
    "import os"
   ]
  },
  {
   "cell_type": "code",
   "execution_count": 3,
   "id": "24a2185d",
   "metadata": {},
   "outputs": [
    {
     "data": {
      "text/plain": [
       "'c:\\\\Users\\\\larry\\\\Desktop\\\\Geoguessr ML Proj\\\\Geolocation-Project'"
      ]
     },
     "execution_count": 3,
     "metadata": {},
     "output_type": "execute_result"
    }
   ],
   "source": [
    "os.getcwd()"
   ]
  },
  {
   "cell_type": "code",
   "execution_count": 4,
   "id": "b242c00b",
   "metadata": {},
   "outputs": [
    {
     "data": {
      "text/plain": [
       "66414"
      ]
     },
     "execution_count": 4,
     "metadata": {},
     "output_type": "execute_result"
    }
   ],
   "source": [
    "df = pd.read_csv(\"reverse_geocode3/input/misc_coords.csv\")\n",
    "len(df)"
   ]
  },
  {
   "cell_type": "code",
   "execution_count": 5,
   "id": "06b73ea2",
   "metadata": {},
   "outputs": [
    {
     "data": {
      "text/html": [
       "<div>\n",
       "<style scoped>\n",
       "    .dataframe tbody tr th:only-of-type {\n",
       "        vertical-align: middle;\n",
       "    }\n",
       "\n",
       "    .dataframe tbody tr th {\n",
       "        vertical-align: top;\n",
       "    }\n",
       "\n",
       "    .dataframe thead th {\n",
       "        text-align: right;\n",
       "    }\n",
       "</style>\n",
       "<table border=\"1\" class=\"dataframe\">\n",
       "  <thead>\n",
       "    <tr style=\"text-align: right;\">\n",
       "      <th></th>\n",
       "      <th>name</th>\n",
       "      <th>latitude</th>\n",
       "      <th>longitude</th>\n",
       "      <th>city</th>\n",
       "      <th>country_code</th>\n",
       "      <th>address</th>\n",
       "    </tr>\n",
       "  </thead>\n",
       "  <tbody>\n",
       "    <tr>\n",
       "      <th>0</th>\n",
       "      <td>8k-goog_0.jpg</td>\n",
       "      <td>35.075424</td>\n",
       "      <td>-106.674995</td>\n",
       "      <td>Albuquerque</td>\n",
       "      <td>US</td>\n",
       "      <td>NaN</td>\n",
       "    </tr>\n",
       "    <tr>\n",
       "      <th>1</th>\n",
       "      <td>8k-goog_1.jpg</td>\n",
       "      <td>35.075721</td>\n",
       "      <td>-106.663576</td>\n",
       "      <td>Albuquerque</td>\n",
       "      <td>US</td>\n",
       "      <td>NaN</td>\n",
       "    </tr>\n",
       "    <tr>\n",
       "      <th>2</th>\n",
       "      <td>8k-goog_2.jpg</td>\n",
       "      <td>35.075800</td>\n",
       "      <td>-106.636760</td>\n",
       "      <td>Albuquerque</td>\n",
       "      <td>US</td>\n",
       "      <td>NaN</td>\n",
       "    </tr>\n",
       "    <tr>\n",
       "      <th>3</th>\n",
       "      <td>8k-goog_3.jpg</td>\n",
       "      <td>35.075887</td>\n",
       "      <td>-106.644925</td>\n",
       "      <td>Albuquerque</td>\n",
       "      <td>US</td>\n",
       "      <td>NaN</td>\n",
       "    </tr>\n",
       "    <tr>\n",
       "      <th>4</th>\n",
       "      <td>8k-goog_4.jpg</td>\n",
       "      <td>35.076840</td>\n",
       "      <td>-106.631114</td>\n",
       "      <td>Albuquerque</td>\n",
       "      <td>US</td>\n",
       "      <td>NaN</td>\n",
       "    </tr>\n",
       "  </tbody>\n",
       "</table>\n",
       "</div>"
      ],
      "text/plain": [
       "            name   latitude   longitude         city country_code address\n",
       "0  8k-goog_0.jpg  35.075424 -106.674995  Albuquerque           US     NaN\n",
       "1  8k-goog_1.jpg  35.075721 -106.663576  Albuquerque           US     NaN\n",
       "2  8k-goog_2.jpg  35.075800 -106.636760  Albuquerque           US     NaN\n",
       "3  8k-goog_3.jpg  35.075887 -106.644925  Albuquerque           US     NaN\n",
       "4  8k-goog_4.jpg  35.076840 -106.631114  Albuquerque           US     NaN"
      ]
     },
     "execution_count": 5,
     "metadata": {},
     "output_type": "execute_result"
    }
   ],
   "source": [
    "df.head()"
   ]
  },
  {
   "cell_type": "code",
   "execution_count": 7,
   "id": "0991825f",
   "metadata": {},
   "outputs": [
    {
     "data": {
      "text/plain": [
       "51"
      ]
     },
     "execution_count": 7,
     "metadata": {},
     "output_type": "execute_result"
    }
   ],
   "source": [
    "len(df[\"city\"].unique())"
   ]
  },
  {
   "cell_type": "code",
   "execution_count": 9,
   "id": "ac1965b1",
   "metadata": {},
   "outputs": [
    {
     "data": {
      "text/plain": [
       "51"
      ]
     },
     "execution_count": 9,
     "metadata": {},
     "output_type": "execute_result"
    }
   ],
   "source": [
    "smaller = df.drop_duplicates(subset=['city'])\n",
    "len(smaller)"
   ]
  },
  {
   "cell_type": "code",
   "execution_count": null,
   "id": "d06ac578",
   "metadata": {},
   "outputs": [
    {
     "data": {
      "text/html": [
       "<div>\n",
       "<style scoped>\n",
       "    .dataframe tbody tr th:only-of-type {\n",
       "        vertical-align: middle;\n",
       "    }\n",
       "\n",
       "    .dataframe tbody tr th {\n",
       "        vertical-align: top;\n",
       "    }\n",
       "\n",
       "    .dataframe thead th {\n",
       "        text-align: right;\n",
       "    }\n",
       "</style>\n",
       "<table border=\"1\" class=\"dataframe\">\n",
       "  <thead>\n",
       "    <tr style=\"text-align: right;\">\n",
       "      <th></th>\n",
       "      <th>name</th>\n",
       "      <th>latitude</th>\n",
       "      <th>longitude</th>\n",
       "      <th>city</th>\n",
       "      <th>country_code</th>\n",
       "      <th>address</th>\n",
       "    </tr>\n",
       "  </thead>\n",
       "  <tbody>\n",
       "    <tr>\n",
       "      <th>0</th>\n",
       "      <td>8k-goog_0.jpg</td>\n",
       "      <td>35.075424</td>\n",
       "      <td>-106.674995</td>\n",
       "      <td>Albuquerque</td>\n",
       "      <td>US</td>\n",
       "      <td>NaN</td>\n",
       "    </tr>\n",
       "    <tr>\n",
       "      <th>170</th>\n",
       "      <td>8k-goog_170.jpg</td>\n",
       "      <td>33.735279</td>\n",
       "      <td>-84.415244</td>\n",
       "      <td>Atlanta</td>\n",
       "      <td>US</td>\n",
       "      <td>NaN</td>\n",
       "    </tr>\n",
       "    <tr>\n",
       "      <th>345</th>\n",
       "      <td>8k-goog_345.jpg</td>\n",
       "      <td>30.275333</td>\n",
       "      <td>-97.734676</td>\n",
       "      <td>Austin</td>\n",
       "      <td>US</td>\n",
       "      <td>NaN</td>\n",
       "    </tr>\n",
       "    <tr>\n",
       "      <th>522</th>\n",
       "      <td>8k-goog_522.jpg</td>\n",
       "      <td>35.325429</td>\n",
       "      <td>-119.052823</td>\n",
       "      <td>Bakersfield</td>\n",
       "      <td>US</td>\n",
       "      <td>NaN</td>\n",
       "    </tr>\n",
       "    <tr>\n",
       "      <th>702</th>\n",
       "      <td>8k-goog_702.jpg</td>\n",
       "      <td>39.275810</td>\n",
       "      <td>-76.634144</td>\n",
       "      <td>Baltimorem</td>\n",
       "      <td>US</td>\n",
       "      <td>NaN</td>\n",
       "    </tr>\n",
       "  </tbody>\n",
       "</table>\n",
       "</div>"
      ],
      "text/plain": [
       "                name   latitude   longitude         city country_code address\n",
       "0      8k-goog_0.jpg  35.075424 -106.674995  Albuquerque           US     NaN\n",
       "170  8k-goog_170.jpg  33.735279  -84.415244      Atlanta           US     NaN\n",
       "345  8k-goog_345.jpg  30.275333  -97.734676       Austin           US     NaN\n",
       "522  8k-goog_522.jpg  35.325429 -119.052823  Bakersfield           US     NaN\n",
       "702  8k-goog_702.jpg  39.275810  -76.634144   Baltimorem           US     NaN"
      ]
     },
     "execution_count": 10,
     "metadata": {},
     "output_type": "execute_result"
    }
   ],
   "source": [
    "smaller.head()\n",
    "smalle"
   ]
  },
  {
   "cell_type": "code",
   "execution_count": 11,
   "id": "bbad9a3a",
   "metadata": {},
   "outputs": [],
   "source": [
    "smaller.to_csv(\"reverse_geocode3/input/short.csv\")"
   ]
  },
  {
   "cell_type": "code",
   "execution_count": 13,
   "id": "3fed205a",
   "metadata": {},
   "outputs": [],
   "source": [
    "import geopandas as gpd\n",
    "def load_shapefile_helper(filepath, usecols=None, bbox=None):\n",
    "    \"\"\"Internal helper to load shapefile with pyogrio fallback and CRS check.\"\"\"\n",
    "    if not os.path.exists(filepath):\n",
    "         raise FileNotFoundError(f\"Shapefile not found: {filepath}\")\n",
    "    try:\n",
    "        gdf = gpd.read_file(filepath, engine='pyogrio', use_arrow=True, columns=usecols, bbox=bbox)\n",
    "        # print(f\"Loaded {os.path.basename(filepath)} using pyogrio.\")\n",
    "    except ImportError:\n",
    "        gdf = gpd.read_file(filepath, columns=usecols, bbox=bbox)\n",
    "        # print(f\"Loaded {os.path.basename(filepath)} using fiona.\")\n",
    "    except Exception as e:\n",
    "        print(f\"Pyogrio failed ({e}), falling back to fiona for {os.path.basename(filepath)}.\")\n",
    "        gdf = gpd.read_file(filepath, columns=usecols, bbox=bbox)\n",
    "\n",
    "    if gdf.crs != 'EPSG:4326':\n",
    "        gdf = gdf.to_crs('EPSG:4326')\n",
    "    return gdf"
   ]
  },
  {
   "cell_type": "code",
   "execution_count": 45,
   "id": "7fa83a7a",
   "metadata": {},
   "outputs": [],
   "source": [
    "temp = load_shapefile_helper(\"reverse_geocode3/GMTED2010_Spatial_Metadata/GMTED2010_Spatial_Metadata.shp\")\n",
    "temp = temp.to_crs(3857)"
   ]
  },
  {
   "cell_type": "code",
   "execution_count": 46,
   "id": "8b93bee8",
   "metadata": {},
   "outputs": [
    {
     "data": {
      "text/plain": [
       "Index(['ID', 'SOURCE_ORG', 'SOURCE', 'EL_SURFACE', 'NORTH', 'SOUTH', 'WEST',\n",
       "       'EAST', 'X_SRCE_RES', 'Y_SRCE_RES', 'HORZ_UNIT', 'COORD_SYS',\n",
       "       'HORZ_DATUM', 'VERT_DATUM', 'VERT_UNIT', 'MIN_ELEV', 'MAX_ELEV',\n",
       "       'MEAN_ELEV', 'SDEV_ELEV', 'PROD_DATE', 'geometry'],\n",
       "      dtype='object')"
      ]
     },
     "execution_count": 46,
     "metadata": {},
     "output_type": "execute_result"
    }
   ],
   "source": [
    "temp.columns"
   ]
  },
  {
   "cell_type": "code",
   "execution_count": 47,
   "id": "42e40a7e",
   "metadata": {},
   "outputs": [
    {
     "data": {
      "text/html": [
       "<div>\n",
       "<style scoped>\n",
       "    .dataframe tbody tr th:only-of-type {\n",
       "        vertical-align: middle;\n",
       "    }\n",
       "\n",
       "    .dataframe tbody tr th {\n",
       "        vertical-align: top;\n",
       "    }\n",
       "\n",
       "    .dataframe thead th {\n",
       "        text-align: right;\n",
       "    }\n",
       "</style>\n",
       "<table border=\"1\" class=\"dataframe\">\n",
       "  <thead>\n",
       "    <tr style=\"text-align: right;\">\n",
       "      <th></th>\n",
       "      <th>ID</th>\n",
       "      <th>SOURCE_ORG</th>\n",
       "      <th>SOURCE</th>\n",
       "      <th>EL_SURFACE</th>\n",
       "      <th>NORTH</th>\n",
       "      <th>SOUTH</th>\n",
       "      <th>WEST</th>\n",
       "      <th>EAST</th>\n",
       "      <th>X_SRCE_RES</th>\n",
       "      <th>Y_SRCE_RES</th>\n",
       "      <th>...</th>\n",
       "      <th>COORD_SYS</th>\n",
       "      <th>HORZ_DATUM</th>\n",
       "      <th>VERT_DATUM</th>\n",
       "      <th>VERT_UNIT</th>\n",
       "      <th>MIN_ELEV</th>\n",
       "      <th>MAX_ELEV</th>\n",
       "      <th>MEAN_ELEV</th>\n",
       "      <th>SDEV_ELEV</th>\n",
       "      <th>PROD_DATE</th>\n",
       "      <th>geometry</th>\n",
       "    </tr>\n",
       "  </thead>\n",
       "  <tbody>\n",
       "    <tr>\n",
       "      <th>0</th>\n",
       "      <td>268</td>\n",
       "      <td>Univ of Bristol</td>\n",
       "      <td>Ant Radar and Laser Alt DEM</td>\n",
       "      <td>Reflective</td>\n",
       "      <td>-55</td>\n",
       "      <td>-90</td>\n",
       "      <td>-180</td>\n",
       "      <td>180</td>\n",
       "      <td>1000.0</td>\n",
       "      <td>1000.0</td>\n",
       "      <td>...</td>\n",
       "      <td>Polar Sterographic</td>\n",
       "      <td>WGS 84</td>\n",
       "      <td>WGS 84</td>\n",
       "      <td>Meter</td>\n",
       "      <td>-82</td>\n",
       "      <td>4211</td>\n",
       "      <td>2152.694</td>\n",
       "      <td>1127.631</td>\n",
       "      <td>31Aug2011</td>\n",
       "      <td>POLYGON ((-11534554.571 -12016612.018, -115345...</td>\n",
       "    </tr>\n",
       "    <tr>\n",
       "      <th>1</th>\n",
       "      <td>269</td>\n",
       "      <td>Univ of Bristol</td>\n",
       "      <td>Ant Radar and Laser Alt DEM</td>\n",
       "      <td>Reflective</td>\n",
       "      <td>-55</td>\n",
       "      <td>-90</td>\n",
       "      <td>-180</td>\n",
       "      <td>180</td>\n",
       "      <td>1000.0</td>\n",
       "      <td>1000.0</td>\n",
       "      <td>...</td>\n",
       "      <td>Polar Sterographic</td>\n",
       "      <td>WGS 84</td>\n",
       "      <td>WGS 84</td>\n",
       "      <td>Meter</td>\n",
       "      <td>-82</td>\n",
       "      <td>4211</td>\n",
       "      <td>2152.694</td>\n",
       "      <td>1127.631</td>\n",
       "      <td>31Aug2011</td>\n",
       "      <td>POLYGON ((-14101396.496 -12177789.547, -141013...</td>\n",
       "    </tr>\n",
       "    <tr>\n",
       "      <th>2</th>\n",
       "      <td>270</td>\n",
       "      <td>Univ of Bristol</td>\n",
       "      <td>Ant Radar and Laser Alt DEM</td>\n",
       "      <td>Reflective</td>\n",
       "      <td>-55</td>\n",
       "      <td>-90</td>\n",
       "      <td>-180</td>\n",
       "      <td>180</td>\n",
       "      <td>1000.0</td>\n",
       "      <td>1000.0</td>\n",
       "      <td>...</td>\n",
       "      <td>Polar Sterographic</td>\n",
       "      <td>WGS 84</td>\n",
       "      <td>WGS 84</td>\n",
       "      <td>Meter</td>\n",
       "      <td>-82</td>\n",
       "      <td>4211</td>\n",
       "      <td>2152.694</td>\n",
       "      <td>1127.631</td>\n",
       "      <td>31Aug2011</td>\n",
       "      <td>POLYGON ((-14080060.261 -12206641.477, -140800...</td>\n",
       "    </tr>\n",
       "    <tr>\n",
       "      <th>3</th>\n",
       "      <td>271</td>\n",
       "      <td>Univ of Bristol</td>\n",
       "      <td>Ant Radar and Laser Alt DEM</td>\n",
       "      <td>Reflective</td>\n",
       "      <td>-55</td>\n",
       "      <td>-90</td>\n",
       "      <td>-180</td>\n",
       "      <td>180</td>\n",
       "      <td>1000.0</td>\n",
       "      <td>1000.0</td>\n",
       "      <td>...</td>\n",
       "      <td>Polar Sterographic</td>\n",
       "      <td>WGS 84</td>\n",
       "      <td>WGS 84</td>\n",
       "      <td>Meter</td>\n",
       "      <td>-82</td>\n",
       "      <td>4211</td>\n",
       "      <td>2152.694</td>\n",
       "      <td>1127.631</td>\n",
       "      <td>31Aug2011</td>\n",
       "      <td>POLYGON ((-14005847.267 -12213070.02, -1400584...</td>\n",
       "    </tr>\n",
       "    <tr>\n",
       "      <th>4</th>\n",
       "      <td>272</td>\n",
       "      <td>Univ of Bristol</td>\n",
       "      <td>Ant Radar and Laser Alt DEM</td>\n",
       "      <td>Reflective</td>\n",
       "      <td>-55</td>\n",
       "      <td>-90</td>\n",
       "      <td>-180</td>\n",
       "      <td>180</td>\n",
       "      <td>1000.0</td>\n",
       "      <td>1000.0</td>\n",
       "      <td>...</td>\n",
       "      <td>Polar Sterographic</td>\n",
       "      <td>WGS 84</td>\n",
       "      <td>WGS 84</td>\n",
       "      <td>Meter</td>\n",
       "      <td>-82</td>\n",
       "      <td>4211</td>\n",
       "      <td>2152.694</td>\n",
       "      <td>1127.631</td>\n",
       "      <td>31Aug2011</td>\n",
       "      <td>POLYGON ((-11706172.12 -12123629.875, -1170617...</td>\n",
       "    </tr>\n",
       "  </tbody>\n",
       "</table>\n",
       "<p>5 rows × 21 columns</p>\n",
       "</div>"
      ],
      "text/plain": [
       "    ID       SOURCE_ORG                       SOURCE  EL_SURFACE  NORTH  \\\n",
       "0  268  Univ of Bristol  Ant Radar and Laser Alt DEM  Reflective    -55   \n",
       "1  269  Univ of Bristol  Ant Radar and Laser Alt DEM  Reflective    -55   \n",
       "2  270  Univ of Bristol  Ant Radar and Laser Alt DEM  Reflective    -55   \n",
       "3  271  Univ of Bristol  Ant Radar and Laser Alt DEM  Reflective    -55   \n",
       "4  272  Univ of Bristol  Ant Radar and Laser Alt DEM  Reflective    -55   \n",
       "\n",
       "   SOUTH  WEST  EAST  X_SRCE_RES  Y_SRCE_RES  ...           COORD_SYS  \\\n",
       "0    -90  -180   180      1000.0      1000.0  ...  Polar Sterographic   \n",
       "1    -90  -180   180      1000.0      1000.0  ...  Polar Sterographic   \n",
       "2    -90  -180   180      1000.0      1000.0  ...  Polar Sterographic   \n",
       "3    -90  -180   180      1000.0      1000.0  ...  Polar Sterographic   \n",
       "4    -90  -180   180      1000.0      1000.0  ...  Polar Sterographic   \n",
       "\n",
       "  HORZ_DATUM VERT_DATUM VERT_UNIT MIN_ELEV  MAX_ELEV  MEAN_ELEV  SDEV_ELEV  \\\n",
       "0     WGS 84     WGS 84     Meter      -82      4211   2152.694   1127.631   \n",
       "1     WGS 84     WGS 84     Meter      -82      4211   2152.694   1127.631   \n",
       "2     WGS 84     WGS 84     Meter      -82      4211   2152.694   1127.631   \n",
       "3     WGS 84     WGS 84     Meter      -82      4211   2152.694   1127.631   \n",
       "4     WGS 84     WGS 84     Meter      -82      4211   2152.694   1127.631   \n",
       "\n",
       "   PROD_DATE                                           geometry  \n",
       "0  31Aug2011  POLYGON ((-11534554.571 -12016612.018, -115345...  \n",
       "1  31Aug2011  POLYGON ((-14101396.496 -12177789.547, -141013...  \n",
       "2  31Aug2011  POLYGON ((-14080060.261 -12206641.477, -140800...  \n",
       "3  31Aug2011  POLYGON ((-14005847.267 -12213070.02, -1400584...  \n",
       "4  31Aug2011  POLYGON ((-11706172.12 -12123629.875, -1170617...  \n",
       "\n",
       "[5 rows x 21 columns]"
      ]
     },
     "execution_count": 47,
     "metadata": {},
     "output_type": "execute_result"
    }
   ],
   "source": [
    "temp.head()"
   ]
  },
  {
   "cell_type": "code",
   "execution_count": 48,
   "id": "f0d1099c",
   "metadata": {},
   "outputs": [
    {
     "data": {
      "text/plain": [
       "1576038"
      ]
     },
     "execution_count": 48,
     "metadata": {},
     "output_type": "execute_result"
    }
   ],
   "source": [
    "len(temp)"
   ]
  },
  {
   "cell_type": "code",
   "execution_count": 49,
   "id": "a0a2b97d",
   "metadata": {},
   "outputs": [
    {
     "data": {
      "image/svg+xml": [
       "<svg xmlns=\"http://www.w3.org/2000/svg\" xmlns:xlink=\"http://www.w3.org/1999/xlink\" width=\"150.32326436787844\" height=\"300\" viewBox=\"-8211480.094796061 -6351411.644097467 150.32326436787844 359.57170690223575\" preserveAspectRatio=\"xMinYMin meet\"><g transform=\"matrix(1,0,0,-1,0,-12702463.716488032)\"><path fill-rule=\"evenodd\" fill=\"#66cc99\" stroke=\"#555555\" stroke-width=\"2.3971447126815715\" opacity=\"0.6\" d=\"M -8211404.933163888,-6351065.389861191 L -8211404.933163888,-6351112.951447835 L -8211374.011083113,-6351112.951447835 L -8211374.011083113,-6351160.513303944 L -8211343.089002319,-6351160.513303944 L -8211343.089002319,-6351208.075429536 L -8211374.011083113,-6351208.075429536 L -8211374.011083113,-6351303.200489203 L -8211343.089002319,-6351303.200489203 L -8211343.089002319,-6351398.326626841 L -8211374.011083113,-6351398.326626841 L -8211374.011083113,-6351350.763423274 L -8211435.85524465,-6351350.763423274 L -8211435.85524465,-6351303.200489203 L -8211466.777325435,-6351303.200489203 L -8211466.777325435,-6351160.513303944 L -8211435.85524465,-6351160.513303944 L -8211435.85524465,-6351065.389861191 L -8211404.933163888,-6351065.389861191 z\" /></g></svg>"
      ],
      "text/plain": [
       "<POLYGON ((-8211404.933 -6351065.39, -8211404.933 -6351112.951, -8211374.011...>"
      ]
     },
     "execution_count": 49,
     "metadata": {},
     "output_type": "execute_result"
    }
   ],
   "source": [
    "temp.iloc[3010][\"geometry\"]"
   ]
  },
  {
   "cell_type": "code",
   "execution_count": 50,
   "id": "b3cc764c",
   "metadata": {},
   "outputs": [
    {
     "name": "stderr",
     "output_type": "stream",
     "text": [
      "c:\\Users\\larry\\Desktop\\Geoguessr ML Proj\\Geolocation-Project\\venv\\Lib\\site-packages\\shapely\\measurement.py:44: RuntimeWarning: invalid value encountered in area\n",
      "  return lib.area(geometry, **kwargs)\n"
     ]
    },
    {
     "data": {
      "text/plain": [
       "0          1.014636e+08\n",
       "1          9.801762e+07\n",
       "2          5.070645e+07\n",
       "3          5.075113e+07\n",
       "4          4.339247e+09\n",
       "               ...     \n",
       "1576033    4.364473e+10\n",
       "1576034    4.638660e+10\n",
       "1576035    4.951231e+10\n",
       "1576036    5.310728e+10\n",
       "1576037    8.393444e+10\n",
       "Length: 1576038, dtype: float64"
      ]
     },
     "execution_count": 50,
     "metadata": {},
     "output_type": "execute_result"
    }
   ],
   "source": [
    "areas = temp.geometry.area\n",
    "areas"
   ]
  },
  {
   "cell_type": "code",
   "execution_count": 51,
   "id": "c1b55697",
   "metadata": {},
   "outputs": [
    {
     "data": {
      "text/plain": [
       "1450214"
      ]
     },
     "execution_count": 51,
     "metadata": {},
     "output_type": "execute_result"
    }
   ],
   "source": [
    "len(set(areas))"
   ]
  },
  {
   "cell_type": "code",
   "execution_count": 52,
   "id": "f6d20462",
   "metadata": {},
   "outputs": [],
   "source": [
    "areas = areas.sort_values()"
   ]
  },
  {
   "cell_type": "code",
   "execution_count": 55,
   "id": "8ea9c838",
   "metadata": {},
   "outputs": [
    {
     "data": {
      "text/plain": [
       "704740     1.673039e-04\n",
       "704738     1.673039e-04\n",
       "704739     1.673039e-04\n",
       "507178     1.769172e-04\n",
       "507177     1.769172e-04\n",
       "               ...     \n",
       "700447     1.098666e+05\n",
       "700450     1.098666e+05\n",
       "700454     1.098666e+05\n",
       "698058     3.413591e+07\n",
       "1574419             NaN\n",
       "Length: 1576038, dtype: float64"
      ]
     },
     "execution_count": 55,
     "metadata": {},
     "output_type": "execute_result"
    }
   ],
   "source": [
    "areas/1000000"
   ]
  },
  {
   "cell_type": "code",
   "execution_count": 62,
   "id": "f4d83535",
   "metadata": {},
   "outputs": [
    {
     "data": {
      "image/png": "[encoded data removed]",
      "text/plain": [
       "<Figure size 640x480 with 1 Axes>"
      ]
     },
     "metadata": {},
     "output_type": "display_data"
    }
   ],
   "source": [
    "import matplotlib.pyplot as plt\n",
    "import numpy as np\n",
    "\n",
    "# Generate random data\n",
    "data = areas[:len(areas)-300000]\n",
    "\n",
    "# Create the histogram\n",
    "plt.hist(data, bins=20, color='skyblue', edgecolor='black')\n",
    "\n",
    "# Add title and labels\n",
    "plt.title('Histogram of Random Data')\n",
    "plt.xlabel('Value')\n",
    "plt.ylabel('Frequency')\n",
    "\n",
    "# Show the histogram\n",
    "plt.show()"
   ]
  },
  {
   "cell_type": "code",
   "execution_count": 2,
   "id": "0ddafa94",
   "metadata": {},
   "outputs": [
    {
     "data": {
      "text/html": [
       "<div>\n",
       "<style scoped>\n",
       "    .dataframe tbody tr th:only-of-type {\n",
       "        vertical-align: middle;\n",
       "    }\n",
       "\n",
       "    .dataframe tbody tr th {\n",
       "        vertical-align: top;\n",
       "    }\n",
       "\n",
       "    .dataframe thead th {\n",
       "        text-align: right;\n",
       "    }\n",
       "</style>\n",
       "<table border=\"1\" class=\"dataframe\">\n",
       "  <thead>\n",
       "    <tr style=\"text-align: right;\">\n",
       "      <th></th>\n",
       "      <th>name</th>\n",
       "      <th>source</th>\n",
       "      <th>latitude</th>\n",
       "      <th>longitude</th>\n",
       "      <th>country_iso2</th>\n",
       "      <th>country_region</th>\n",
       "      <th>country_subregion</th>\n",
       "      <th>admin1_iso2</th>\n",
       "      <th>admin1_local_name</th>\n",
       "      <th>admin1_name</th>\n",
       "      <th>...</th>\n",
       "      <th>city_metro_id</th>\n",
       "      <th>city_metro_name</th>\n",
       "      <th>city_name</th>\n",
       "      <th>city_name_normalized</th>\n",
       "      <th>city_population</th>\n",
       "      <th>city_source</th>\n",
       "      <th>city_distance_km</th>\n",
       "      <th>climate_zone</th>\n",
       "      <th>land_cover_class</th>\n",
       "      <th>land_cover_probability</th>\n",
       "    </tr>\n",
       "  </thead>\n",
       "  <tbody>\n",
       "    <tr>\n",
       "      <th>0</th>\n",
       "      <td>306753597767678</td>\n",
       "      <td>osv</td>\n",
       "      <td>-22.815043</td>\n",
       "      <td>-43.287328</td>\n",
       "      <td>BR</td>\n",
       "      <td>Americas</td>\n",
       "      <td>South America</td>\n",
       "      <td>BR</td>\n",
       "      <td>NaN</td>\n",
       "      <td>Rio de Janeiro</td>\n",
       "      <td>...</td>\n",
       "      <td>774ee03b19bf7acf</td>\n",
       "      <td>duque de caxias</td>\n",
       "      <td>Duque de Caxias</td>\n",
       "      <td>duque de caxias</td>\n",
       "      <td>818329.0</td>\n",
       "      <td>geonames</td>\n",
       "      <td>4.112</td>\n",
       "      <td>Tropical savanna climate (dry winter)</td>\n",
       "      <td>Urban/Built-up</td>\n",
       "      <td>85.0</td>\n",
       "    </tr>\n",
       "    <tr>\n",
       "      <th>1</th>\n",
       "      <td>310681343890192</td>\n",
       "      <td>osv</td>\n",
       "      <td>-19.914459</td>\n",
       "      <td>-43.888012</td>\n",
       "      <td>BR</td>\n",
       "      <td>Americas</td>\n",
       "      <td>South America</td>\n",
       "      <td>BR</td>\n",
       "      <td>NaN</td>\n",
       "      <td>Minas Gerais</td>\n",
       "      <td>...</td>\n",
       "      <td>89940ee8fb72a10d</td>\n",
       "      <td>belo horizonte</td>\n",
       "      <td>Belo Horizonte</td>\n",
       "      <td>belo horizonte</td>\n",
       "      <td>2721564.0</td>\n",
       "      <td>geonames</td>\n",
       "      <td>5.258</td>\n",
       "      <td>Tropical savanna climate (dry winter)</td>\n",
       "      <td>Urban/Built-up</td>\n",
       "      <td>86.0</td>\n",
       "    </tr>\n",
       "    <tr>\n",
       "      <th>2</th>\n",
       "      <td>770778933640024</td>\n",
       "      <td>osv</td>\n",
       "      <td>-18.285880</td>\n",
       "      <td>-39.955205</td>\n",
       "      <td>BR</td>\n",
       "      <td>Americas</td>\n",
       "      <td>South America</td>\n",
       "      <td>BR</td>\n",
       "      <td>NaN</td>\n",
       "      <td>Espírito Santo</td>\n",
       "      <td>...</td>\n",
       "      <td>5f0c553f3d521ec8</td>\n",
       "      <td>pedro canario</td>\n",
       "      <td>Pedro Canário</td>\n",
       "      <td>pedro canario</td>\n",
       "      <td>0.0</td>\n",
       "      <td>geonames</td>\n",
       "      <td>1.214</td>\n",
       "      <td>Tropical savanna climate (dry winter)</td>\n",
       "      <td>Cultivated and Managed Vegetation</td>\n",
       "      <td>61.0</td>\n",
       "    </tr>\n",
       "    <tr>\n",
       "      <th>3</th>\n",
       "      <td>322578109288901</td>\n",
       "      <td>osv</td>\n",
       "      <td>-9.673240</td>\n",
       "      <td>-35.718752</td>\n",
       "      <td>BR</td>\n",
       "      <td>Americas</td>\n",
       "      <td>South America</td>\n",
       "      <td>BR</td>\n",
       "      <td>NaN</td>\n",
       "      <td>Alagoas</td>\n",
       "      <td>...</td>\n",
       "      <td>d5a08eae11ea4291</td>\n",
       "      <td>maceio</td>\n",
       "      <td>Maceió</td>\n",
       "      <td>maceio</td>\n",
       "      <td>1031597.0</td>\n",
       "      <td>geonames</td>\n",
       "      <td>1.990</td>\n",
       "      <td>Tropical monsoon climate</td>\n",
       "      <td>Urban/Built-up</td>\n",
       "      <td>68.0</td>\n",
       "    </tr>\n",
       "    <tr>\n",
       "      <th>4</th>\n",
       "      <td>584651635849668</td>\n",
       "      <td>osv</td>\n",
       "      <td>-13.349386</td>\n",
       "      <td>-39.874772</td>\n",
       "      <td>BR</td>\n",
       "      <td>Americas</td>\n",
       "      <td>South America</td>\n",
       "      <td>BR</td>\n",
       "      <td>NaN</td>\n",
       "      <td>Bahia</td>\n",
       "      <td>...</td>\n",
       "      <td>0fb4bef7793d3da5</td>\n",
       "      <td>santa ines</td>\n",
       "      <td>Santa Inês</td>\n",
       "      <td>santa ines</td>\n",
       "      <td>10520.0</td>\n",
       "      <td>geonames</td>\n",
       "      <td>8.755</td>\n",
       "      <td>Tropical savanna climate (dry winter)</td>\n",
       "      <td>Cultivated and Managed Vegetation</td>\n",
       "      <td>84.0</td>\n",
       "    </tr>\n",
       "  </tbody>\n",
       "</table>\n",
       "<p>5 rows × 35 columns</p>\n",
       "</div>"
      ],
      "text/plain": [
       "              name source   latitude  longitude country_iso2 country_region  \\\n",
       "0  306753597767678    osv -22.815043 -43.287328           BR       Americas   \n",
       "1  310681343890192    osv -19.914459 -43.888012           BR       Americas   \n",
       "2  770778933640024    osv -18.285880 -39.955205           BR       Americas   \n",
       "3  322578109288901    osv  -9.673240 -35.718752           BR       Americas   \n",
       "4  584651635849668    osv -13.349386 -39.874772           BR       Americas   \n",
       "\n",
       "  country_subregion admin1_iso2 admin1_local_name     admin1_name  ...  \\\n",
       "0     South America          BR               NaN  Rio de Janeiro  ...   \n",
       "1     South America          BR               NaN    Minas Gerais  ...   \n",
       "2     South America          BR               NaN  Espírito Santo  ...   \n",
       "3     South America          BR               NaN         Alagoas  ...   \n",
       "4     South America          BR               NaN           Bahia  ...   \n",
       "\n",
       "      city_metro_id  city_metro_name        city_name city_name_normalized  \\\n",
       "0  774ee03b19bf7acf  duque de caxias  Duque de Caxias      duque de caxias   \n",
       "1  89940ee8fb72a10d   belo horizonte   Belo Horizonte       belo horizonte   \n",
       "2  5f0c553f3d521ec8    pedro canario    Pedro Canário        pedro canario   \n",
       "3  d5a08eae11ea4291           maceio           Maceió               maceio   \n",
       "4  0fb4bef7793d3da5       santa ines       Santa Inês           santa ines   \n",
       "\n",
       "   city_population city_source city_distance_km  \\\n",
       "0         818329.0    geonames            4.112   \n",
       "1        2721564.0    geonames            5.258   \n",
       "2              0.0    geonames            1.214   \n",
       "3        1031597.0    geonames            1.990   \n",
       "4          10520.0    geonames            8.755   \n",
       "\n",
       "                            climate_zone                   land_cover_class  \\\n",
       "0  Tropical savanna climate (dry winter)                     Urban/Built-up   \n",
       "1  Tropical savanna climate (dry winter)                     Urban/Built-up   \n",
       "2  Tropical savanna climate (dry winter)  Cultivated and Managed Vegetation   \n",
       "3               Tropical monsoon climate                     Urban/Built-up   \n",
       "4  Tropical savanna climate (dry winter)  Cultivated and Managed Vegetation   \n",
       "\n",
       "  land_cover_probability  \n",
       "0                   85.0  \n",
       "1                   86.0  \n",
       "2                   61.0  \n",
       "3                   68.0  \n",
       "4                   84.0  \n",
       "\n",
       "[5 rows x 35 columns]"
      ]
     },
     "execution_count": 2,
     "metadata": {},
     "output_type": "execute_result"
    }
   ],
   "source": [
    "df = pd.read_csv(\"reverse_geocode3/results/geocoded_combined_sampled_geodata.csv\")\n",
    "df.head()"
   ]
  },
  {
   "cell_type": "code",
   "execution_count": null,
   "id": "0c725c3e",
   "metadata": {},
   "outputs": [],
   "source": []
  }
 ],
 "metadata": {
  "kernelspec": {
   "display_name": "venv",
   "language": "python",
   "name": "python3"
  },
  "language_info": {
   "codemirror_mode": {
    "name": "ipython",
    "version": 3
   },
   "file_extension": ".py",
   "mimetype": "text/x-python",
   "name": "python",
   "nbconvert_exporter": "python",
   "pygments_lexer": "ipython3",
   "version": "3.12.0"
  }
 },
 "nbformat": 4,
 "nbformat_minor": 5
}
